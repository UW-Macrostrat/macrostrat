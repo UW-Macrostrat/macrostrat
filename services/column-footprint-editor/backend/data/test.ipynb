{
 "metadata": {
  "language_info": {
   "codemirror_mode": {
    "name": "ipython",
    "version": 3
   },
   "file_extension": ".py",
   "mimetype": "text/x-python",
   "name": "python",
   "nbconvert_exporter": "python",
   "pygments_lexer": "ipython3",
   "version": "3.9.5"
  },
  "orig_nbformat": 2,
  "kernelspec": {
   "name": "python3",
   "display_name": "Python 3.9.5 64-bit ('topology': conda)"
  },
  "interpreter": {
   "hash": "ffd20c3ef245e9a47c276987c0e056716797c96ff24f62f0752bcd8948ea08a1"
  }
 },
 "nbformat": 4,
 "nbformat_minor": 2,
 "cells": [
  {
   "cell_type": "code",
   "execution_count": 11,
   "metadata": {},
   "outputs": [],
   "source": [
    "import json"
   ]
  },
  {
   "cell_type": "code",
   "execution_count": 8,
   "metadata": {},
   "outputs": [],
   "source": [
    "base = \"/Users/casey_idz/Coding/uw-macrostrat/column-creator/backend\"\n",
    "fixtures = base + \"/fixtures\"\n",
    "procedures = base + \"/procedures\"\n",
    "queries = base + \"/queries\"\n",
    "config = base + \"/config\"\n",
    "project = \"project_10\""
   ]
  },
  {
   "cell_type": "code",
   "execution_count": 4,
   "metadata": {},
   "outputs": [],
   "source": [
    "insert_sql = queries + \"/project_1_insert.sql\""
   ]
  },
  {
   "cell_type": "code",
   "execution_count": 5,
   "metadata": {},
   "outputs": [
    {
     "output_type": "execute_result",
     "data": {
      "text/plain": [
       "'/Users/casey_idz/Coding/uw-macrostrat/column-creator/backend/queries/project_1_insert.sql'"
      ]
     },
     "metadata": {},
     "execution_count": 5
    }
   ],
   "source": [
    "insert_sql"
   ]
  },
  {
   "cell_type": "code",
   "execution_count": 13,
   "metadata": {},
   "outputs": [],
   "source": [
    "sql = open(insert_sql).read()\n",
    "config_fn = config + \"/\" + project + \".json\"\n",
    "config_json = json.load(open(config_fn))"
   ]
  },
  {
   "cell_type": "code",
   "execution_count": 23,
   "metadata": {},
   "outputs": [],
   "source": [
    "project_schema = config_json['project_schema']\n",
    "sql = sql.replace(\"${project_schema}\", project_schema)"
   ]
  },
  {
   "cell_type": "code",
   "execution_count": 24,
   "metadata": {},
   "outputs": [
    {
     "output_type": "execute_result",
     "data": {
      "text/plain": [
       "'INSERT INTO project_10.columns(project_id, col_id, col_name, col_group, location) VALUES (\\n    :project_id, :col_id, :col_name, :col_group, (ST_Dump(ST_GeomFromGeoJSON(:location))).geom);\\n\\n'"
      ]
     },
     "metadata": {},
     "execution_count": 24
    }
   ],
   "source": [
    "sql"
   ]
  },
  {
   "cell_type": "code",
   "execution_count": null,
   "metadata": {},
   "outputs": [],
   "source": []
  }
 ]
}