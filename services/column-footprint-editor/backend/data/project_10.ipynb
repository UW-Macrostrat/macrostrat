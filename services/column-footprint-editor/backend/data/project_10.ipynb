{
 "metadata": {
  "language_info": {
   "codemirror_mode": {
    "name": "ipython",
    "version": 3
   },
   "file_extension": ".py",
   "mimetype": "text/x-python",
   "name": "python",
   "nbconvert_exporter": "python",
   "pygments_lexer": "ipython3",
   "version": "3.9.2"
  },
  "orig_nbformat": 2,
  "kernelspec": {
   "name": "python392jvsc74a57bd0ffd20c3ef245e9a47c276987c0e056716797c96ff24f62f0752bcd8948ea08a1",
   "display_name": "Python 3.9.2 64-bit ('topology': conda)"
  }
 },
 "nbformat": 4,
 "nbformat_minor": 2,
 "cells": [
  {
   "cell_type": "code",
   "execution_count": 26,
   "metadata": {},
   "outputs": [],
   "source": [
    "import requests\n",
    "import json\n",
    "import pandas as pd\n"
   ]
  },
  {
   "cell_type": "code",
   "execution_count": 38,
   "metadata": {},
   "outputs": [],
   "source": [
    "url =   \"https://macrostrat.org/api/v2/columns?project_id=10&format=geojson_bare&status_code=in%20process\"\n"
   ]
  },
  {
   "cell_type": "code",
   "execution_count": 39,
   "metadata": {},
   "outputs": [],
   "source": [
    "res = requests.get(url)\n",
    "data = res.json()"
   ]
  },
  {
   "cell_type": "code",
   "execution_count": 40,
   "metadata": {},
   "outputs": [
    {
     "output_type": "execute_result",
     "data": {
      "text/plain": [
       "dict_keys(['type', 'features'])"
      ]
     },
     "metadata": {},
     "execution_count": 40
    }
   ],
   "source": [
    "data.keys()"
   ]
  },
  {
   "cell_type": "code",
   "execution_count": 41,
   "metadata": {},
   "outputs": [
    {
     "output_type": "execute_result",
     "data": {
      "text/plain": [
       "{'type': 'Feature',\n",
       " 'geometry': {'type': 'Polygon',\n",
       "  'coordinates': [[[-141.7054, 69.5757],\n",
       "    [-139.6912, 69.5268],\n",
       "    [-138.3069, 68.9071],\n",
       "    [-136.1426, 68.7204],\n",
       "    [-135.5603, 68.3628],\n",
       "    [-135.2856, 68.0487],\n",
       "    [-135.4285, 67.8341],\n",
       "    [-137.1204, 68.2735],\n",
       "    [-138.5486, 68.31],\n",
       "    [-140.4939, 68.4108],\n",
       "    [-140.6586, 68.535],\n",
       "    [-140.9278, 68.6205],\n",
       "    [-140.7249, 68.774],\n",
       "    [-140.3909, 68.9053],\n",
       "    [-140.5028, 69.0131],\n",
       "    [-141.9296, 69.1156],\n",
       "    [-142.468, 69.2386],\n",
       "    [-142.6822, 69.4315],\n",
       "    [-141.7054, 69.5757]]]},\n",
       " 'properties': {'col_id': 5727,\n",
       "  'col_name': 'Clarence River, North Slope, Alaska',\n",
       "  'col_group': 'Baltica paleogeographic continental block',\n",
       "  'col_group_id': 73,\n",
       "  'group_col_id': '212.00',\n",
       "  'col_area': '21877.7',\n",
       "  'project_id': 10,\n",
       "  'col_type': 'column',\n",
       "  'refs': [206]}}"
      ]
     },
     "metadata": {},
     "execution_count": 41
    }
   ],
   "source": [
    "data['features'][-1]"
   ]
  },
  {
   "cell_type": "code",
   "execution_count": 42,
   "metadata": {},
   "outputs": [],
   "source": [
    "new_data = []\n",
    "for ele in data['features']:\n",
    "    obj = {}\n",
    "    obj['project_id'] = ele['properties']['project_id']\n",
    "    obj['col_id'] = ele['properties']['col_id']\n",
    "    obj['col_name'] = ele['properties']['col_name']\n",
    "    obj['col_group'] = ele['properties']['col_group']\n",
    "    obj[\"location\"] = ele['geometry']\n",
    "    new_data.append(obj)"
   ]
  },
  {
   "cell_type": "code",
   "execution_count": 43,
   "metadata": {},
   "outputs": [],
   "source": [
    "with open(\"project_10.json\", \"w\") as f:\n",
    "    json.dump(new_data, f)"
   ]
  },
  {
   "cell_type": "code",
   "execution_count": 24,
   "metadata": {},
   "outputs": [
    {
     "output_type": "execute_result",
     "data": {
      "text/plain": [
       "{'project_id': 10,\n",
       " 'col_id': 5725,\n",
       " 'col_name': 'Peary Land, NE Greenland',\n",
       " 'col_group': 'Eastern Laurentia margin: Franklinian Basin, Ellesmerian Orogen Uplift, Caledonide Orogen uplift',\n",
       " 'location': {}}"
      ]
     },
     "metadata": {},
     "execution_count": 24
    }
   ],
   "source": [
    "new_data[-1]"
   ]
  },
  {
   "cell_type": "code",
   "execution_count": null,
   "metadata": {},
   "outputs": [],
   "source": []
  }
 ]
}