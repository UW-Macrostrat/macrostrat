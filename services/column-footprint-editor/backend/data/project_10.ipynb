{
 "metadata": {
  "language_info": {
   "codemirror_mode": {
    "name": "ipython",
    "version": 3
   },
   "file_extension": ".py",
   "mimetype": "text/x-python",
   "name": "python",
   "nbconvert_exporter": "python",
   "pygments_lexer": "ipython3",
   "version": "3.9.2"
  },
  "orig_nbformat": 2,
  "kernelspec": {
   "name": "python392jvsc74a57bd0ffd20c3ef245e9a47c276987c0e056716797c96ff24f62f0752bcd8948ea08a1",
   "display_name": "Python 3.9.2 64-bit ('topology': conda)"
  }
 },
 "nbformat": 4,
 "nbformat_minor": 2,
 "cells": [
  {
   "cell_type": "code",
   "execution_count": 72,
   "metadata": {},
   "outputs": [],
   "source": [
    "import requests\n",
    "import json\n",
    "import pandas as pd\n",
    "from shapely.geometry import shape, GeometryCollection,mapping\n",
    "from shapely.ops import polylabel"
   ]
  },
  {
   "cell_type": "code",
   "execution_count": 5,
   "metadata": {},
   "outputs": [],
   "source": [
    "url =   \"https://macrostrat.org/api/v2/columns?project_id=10&format=geojson_bare&status_code=in%20process\"\n"
   ]
  },
  {
   "cell_type": "code",
   "execution_count": 6,
   "metadata": {},
   "outputs": [],
   "source": [
    "res = requests.get(url)\n",
    "data = res.json()"
   ]
  },
  {
   "cell_type": "code",
   "execution_count": 7,
   "metadata": {},
   "outputs": [
    {
     "output_type": "execute_result",
     "data": {
      "text/plain": [
       "dict_keys(['type', 'features'])"
      ]
     },
     "metadata": {},
     "execution_count": 7
    }
   ],
   "source": [
    "data.keys()"
   ]
  },
  {
   "cell_type": "code",
   "execution_count": 75,
   "metadata": {},
   "outputs": [
    {
     "output_type": "stream",
     "name": "stdout",
     "text": [
      "2\n"
     ]
    }
   ],
   "source": [
    "# turn multipolygon into polygon and share the features\n",
    "test_multipolygon = data['features'][0]\n",
    "multi_props = {\"type\":test_multipolygon['type'], \"properties\":test_multipolygon['properties']}\n",
    "\n",
    "mult_shape = shape(test_multipolygon['geometry']).buffer(0)\n",
    "\n",
    "polygons3 = []\n",
    "for polygon in mult_shape:\n",
    "    polygons3.append(polygon)\n",
    "new_features = []\n",
    "for poly in polygons3:\n",
    "    new_feature = {**multi_props}\n",
    "    new_feature['geometry'] = mapping(poly)\n",
    "    new_features.append(new_feature)\n",
    "print(len(new_features))"
   ]
  },
  {
   "cell_type": "code",
   "execution_count": 37,
   "metadata": {},
   "outputs": [
    {
     "output_type": "execute_result",
     "data": {
      "text/plain": [
       "212"
      ]
     },
     "metadata": {},
     "execution_count": 37
    }
   ],
   "source": [
    "for indx, feature in reversed(list(enumerate(data['features']))):\n",
    "    shape_ = shape(feature['geometry']).buffer(0)\n",
    "\n",
    "\n",
    "polygons = [shape(feature[\"geometry\"]).buffer(0) for feature in data['features']]\n",
    "len(polygons)"
   ]
  },
  {
   "cell_type": "code",
   "execution_count": 53,
   "metadata": {},
   "outputs": [
    {
     "output_type": "execute_result",
     "data": {
      "text/plain": [
       "<shapely.geometry.polygon.LinearRing at 0x7fb9b999d1f0>"
      ],
      "image/svg+xml": "<svg xmlns=\"http://www.w3.org/2000/svg\" xmlns:xlink=\"http://www.w3.org/1999/xlink\" width=\"100.0\" height=\"100.0\" viewBox=\"-53.228868 47.150132 0.3366359999999986 0.2583359999999999\" preserveAspectRatio=\"xMinYMin meet\"><g transform=\"matrix(1,0,0,-1,0,94.5586)\"><polyline fill=\"none\" stroke=\"#66cc99\" stroke-width=\"0.0067327199999999724\" points=\"-53.1244,47.3737 -53.1979,47.3272 -53.2164,47.2648 -53.1416,47.1972 -53.0344,47.1626 -52.9294,47.2326 -52.9047,47.3016 -52.9246,47.3644 -53.0235,47.396 -53.1244,47.3737\" opacity=\"0.8\" /></g></svg>"
     },
     "metadata": {},
     "execution_count": 53
    }
   ],
   "source": [
    "polygons2 = []\n",
    "for pol in polygons:\n",
    "    if pol.type == \"MultiPolygon\":\n",
    "        for poll in pol:\n",
    "            polygons2.append(poll)\n",
    "    else:\n",
    "        polygons2.append(pol)\n",
    "polygons2[0].interiors[0]"
   ]
  },
  {
   "cell_type": "code",
   "execution_count": 39,
   "metadata": {},
   "outputs": [
    {
     "output_type": "execute_result",
     "data": {
      "text/plain": [
       "265"
      ]
     },
     "metadata": {},
     "execution_count": 39
    }
   ],
   "source": [
    "poly_labels = [polylabel(pol, tolerance=10) for pol in polygons2]\n",
    "len(poly_labels)"
   ]
  },
  {
   "cell_type": "code",
   "execution_count": 42,
   "metadata": {},
   "outputs": [
    {
     "output_type": "stream",
     "name": "stdout",
     "text": [
      "POINT (-52.93641254110201 47.40178013044228)\n"
     ]
    }
   ],
   "source": []
  },
  {
   "cell_type": "code",
   "execution_count": 42,
   "metadata": {},
   "outputs": [],
   "source": [
    "new_data = []\n",
    "for ele in data['features']:\n",
    "    obj = {}\n",
    "    obj['project_id'] = ele['properties']['project_id']\n",
    "    obj['col_id'] = ele['properties']['col_id']\n",
    "    obj['col_name'] = ele['properties']['col_name']\n",
    "    obj['col_group'] = ele['properties']['col_group']\n",
    "    obj[\"location\"] = ele['geometry']\n",
    "    new_data.append(obj)"
   ]
  },
  {
   "cell_type": "code",
   "execution_count": null,
   "metadata": {},
   "outputs": [],
   "source": []
  },
  {
   "cell_type": "code",
   "execution_count": null,
   "metadata": {},
   "outputs": [],
   "source": []
  },
  {
   "cell_type": "code",
   "execution_count": 43,
   "metadata": {},
   "outputs": [],
   "source": [
    "with open(\"project_10.json\", \"w\") as f:\n",
    "    json.dump(new_data, f)"
   ]
  },
  {
   "cell_type": "code",
   "execution_count": 24,
   "metadata": {},
   "outputs": [
    {
     "output_type": "execute_result",
     "data": {
      "text/plain": [
       "{'project_id': 10,\n",
       " 'col_id': 5725,\n",
       " 'col_name': 'Peary Land, NE Greenland',\n",
       " 'col_group': 'Eastern Laurentia margin: Franklinian Basin, Ellesmerian Orogen Uplift, Caledonide Orogen uplift',\n",
       " 'location': {}}"
      ]
     },
     "metadata": {},
     "execution_count": 24
    }
   ],
   "source": [
    "new_data[-1]"
   ]
  },
  {
   "cell_type": "code",
   "execution_count": 86,
   "metadata": {},
   "outputs": [
    {
     "output_type": "stream",
     "name": "stdout",
     "text": [
      "0 a\n1 b\n2 c\n3 d\n4 e\n\n4 e\n3 d\n2 c\n1 b\n0 a\n"
     ]
    }
   ],
   "source": [
    "test = ['a','b','c','d','e']\n",
    "for indx,val in enumerate(test):\n",
    "    print(indx, val)\n",
    "print(\"\")\n",
    "for indx, val in reversed(list(enumerate(test))):\n",
    "    print(indx, val)"
   ]
  },
  {
   "cell_type": "code",
   "execution_count": null,
   "metadata": {},
   "outputs": [],
   "source": []
  }
 ]
}